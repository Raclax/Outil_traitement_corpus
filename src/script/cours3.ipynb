{
 "cells": [
  {
   "cell_type": "code",
   "execution_count": 5,
   "metadata": {},
   "outputs": [
    {
     "data": {
      "text/plain": [
       "0        0\n",
       "1        0\n",
       "2        0\n",
       "3        0\n",
       "4        0\n",
       "        ..\n",
       "49995    0\n",
       "49996    4\n",
       "49997    3\n",
       "49998    1\n",
       "49999    0\n",
       "Name: label, Length: 50000, dtype: int64"
      ]
     },
     "execution_count": 5,
     "metadata": {},
     "output_type": "execute_result"
    }
   ],
   "source": [
    "import pandas as pd\n",
    "\n",
    "data = pd.read_parquet('yelp_review_full', engine='pyarrow')\n",
    "\n",
    "data[\"text\"]\n",
    "data[\"label\"]"
   ]
  },
  {
   "cell_type": "code",
   "execution_count": 3,
   "metadata": {},
   "outputs": [
    {
     "ename": "NameError",
     "evalue": "name 'features' is not defined",
     "output_type": "error",
     "traceback": [
      "\u001b[0;31m---------------------------------------------------------------------------\u001b[0m",
      "\u001b[0;31mNameError\u001b[0m                                 Traceback (most recent call last)",
      "\u001b[1;32m/home/raclax/Documents/M1/S2/cours3.ipynb Cell 2\u001b[0m line \u001b[0;36m6\n\u001b[1;32m      <a href='vscode-notebook-cell:/home/raclax/Documents/M1/S2/cours3.ipynb#W4sZmlsZQ%3D%3D?line=0'>1</a>\u001b[0m \u001b[39mfrom\u001b[39;00m \u001b[39mdatasets\u001b[39;00m \u001b[39mimport\u001b[39;00m Dataset\n\u001b[1;32m      <a href='vscode-notebook-cell:/home/raclax/Documents/M1/S2/cours3.ipynb#W4sZmlsZQ%3D%3D?line=2'>3</a>\u001b[0m data_dict \u001b[39m=\u001b[39m data\u001b[39m.\u001b[39mto_dict(orient\u001b[39m=\u001b[39m\u001b[39m'\u001b[39m\u001b[39mlist\u001b[39m\u001b[39m'\u001b[39m)\n\u001b[1;32m      <a href='vscode-notebook-cell:/home/raclax/Documents/M1/S2/cours3.ipynb#W4sZmlsZQ%3D%3D?line=4'>5</a>\u001b[0m Dataset({\n\u001b[0;32m----> <a href='vscode-notebook-cell:/home/raclax/Documents/M1/S2/cours3.ipynb#W4sZmlsZQ%3D%3D?line=5'>6</a>\u001b[0m     features: [\u001b[39m'\u001b[39m\u001b[39mlabel\u001b[39m\u001b[39m'\u001b[39m, \u001b[39m'\u001b[39m\u001b[39mtext\u001b[39m\u001b[39m'\u001b[39m],\n\u001b[1;32m      <a href='vscode-notebook-cell:/home/raclax/Documents/M1/S2/cours3.ipynb#W4sZmlsZQ%3D%3D?line=6'>7</a>\u001b[0m     num_rows: \u001b[39m50000\u001b[39m\n\u001b[1;32m      <a href='vscode-notebook-cell:/home/raclax/Documents/M1/S2/cours3.ipynb#W4sZmlsZQ%3D%3D?line=7'>8</a>\u001b[0m })\n\u001b[1;32m     <a href='vscode-notebook-cell:/home/raclax/Documents/M1/S2/cours3.ipynb#W4sZmlsZQ%3D%3D?line=9'>10</a>\u001b[0m data \u001b[39m=\u001b[39m Dataset\u001b[39m.\u001b[39mfrom_pandas(text)\n",
      "\u001b[0;31mNameError\u001b[0m: name 'features' is not defined"
     ]
    }
   ],
   "source": [
    "from datasets import Dataset\n",
    "\n",
    "data_dict = data.to_dict(orient='list')\n",
    "\n",
    "data = Dataset.from_pandas(text)\n",
    "\n"
   ]
  },
  {
   "cell_type": "code",
   "execution_count": 7,
   "metadata": {},
   "outputs": [
    {
     "name": "stderr",
     "output_type": "stream",
     "text": [
      "Downloading readme: 100%|██████████| 6.72k/6.72k [00:00<00:00, 12.4MB/s]\n",
      "Downloading data: 100%|██████████| 299M/299M [00:13<00:00, 22.3MB/s] \n",
      "Downloading data: 100%|██████████| 23.5M/23.5M [00:01<00:00, 17.8MB/s]\n",
      "Generating train split: 100%|██████████| 650000/650000 [00:02<00:00, 223104.56 examples/s]\n",
      "Generating test split: 100%|██████████| 50000/50000 [00:00<00:00, 182377.22 examples/s]\n"
     ]
    }
   ],
   "source": [
    "from datasets import Dataset, load_dataset\n",
    "\n",
    "dataset = load_dataset(\"yelp_review_full\", split=\"train\")\n",
    "dataset = dataset.to_pandas()\n",
    "dataset = Dataset.from_pandas(dataset)"
   ]
  },
  {
   "cell_type": "code",
   "execution_count": 9,
   "metadata": {},
   "outputs": [
    {
     "data": {
      "text/plain": [
       "{'label': 4,\n",
       " 'text': \"dr. goldberg offers everything i look for in a general practitioner.  he's nice and easy to talk to without being patronizing; he's always on time in seeing his patients; he's affiliated with a top-notch hospital (nyu) which my parents have explained to me is very important in case something happens and you need surgery; and you can get referrals to see specialists without having to see him first.  really, what more do you need?  i'm sitting here trying to think of any complaints i have about him, but i'm really drawing a blank.\"}"
      ]
     },
     "execution_count": 9,
     "metadata": {},
     "output_type": "execute_result"
    }
   ],
   "source": [
    "dataset\n",
    "dataset[0]"
   ]
  }
 ],
 "metadata": {
  "kernelspec": {
   "display_name": "Python 3",
   "language": "python",
   "name": "python3"
  },
  "language_info": {
   "codemirror_mode": {
    "name": "ipython",
    "version": 3
   },
   "file_extension": ".py",
   "mimetype": "text/x-python",
   "name": "python",
   "nbconvert_exporter": "python",
   "pygments_lexer": "ipython3",
   "version": "3.12.0"
  }
 },
 "nbformat": 4,
 "nbformat_minor": 2
}
